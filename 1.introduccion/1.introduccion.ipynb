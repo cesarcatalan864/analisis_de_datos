{
 "cells": [
  {
   "cell_type": "code",
   "execution_count": 5,
   "metadata": {},
   "outputs": [
    {
     "name": "stdout",
     "output_type": "stream",
     "text": [
      "[1, 2, 3, 4]\n",
      "[1, 2]\n"
     ]
    }
   ],
   "source": [
    "lista_nueva = [1,3,4,5]\n",
    "#corregir lista\n",
    "lista_nueva[1]=2\n",
    "lista_nueva[2]=3\n",
    "lista_nueva[3]=4\n",
    "print (lista_nueva)\n",
    "print(lista_nueva[0:2])"
   ]
  },
  {
   "cell_type": "code",
   "execution_count": 11,
   "metadata": {},
   "outputs": [
    {
     "name": "stdout",
     "output_type": "stream",
     "text": [
      "[1, 2, 3, 4, 10, 10, 10, 2, 3, 5, 10, 2, 3, 5, 10]\n",
      "[1, 2, 3, 4, 10, 10, 10, 2, 3, 5, 10, 2, 3, 5, 10, 2, 3, 5, [20, 21, 22]]\n",
      "1\n",
      "2\n",
      "3\n",
      "4\n",
      "10\n",
      "10\n",
      "10\n",
      "2\n",
      "3\n",
      "5\n",
      "10\n",
      "2\n",
      "3\n",
      "5\n",
      "10\n",
      "2\n",
      "3\n",
      "5\n",
      "[20, 21, 22]\n"
     ]
    }
   ],
   "source": [
    "#append -> agregar un elto\n",
    "# extend -> agregar uns lista de elto\n",
    "lista_nueva.append(10)\n",
    "print(lista_nueva)\n",
    "lista_nueva.extend([2,3,5])\n",
    "lista_nueva.append([20,21,22])\n",
    "print(lista_nueva)\n",
    "for item in lista_nueva:\n",
    "    print(item)"
   ]
  },
  {
   "cell_type": "code",
   "execution_count": 12,
   "metadata": {},
   "outputs": [
    {
     "name": "stdout",
     "output_type": "stream",
     "text": [
      "('Luis', 2, 5.5, (1, 2, 3))\n"
     ]
    }
   ],
   "source": [
    "#Tupla\n",
    "tupla_entero = (1,2,3,4,5)\n",
    "tupla_mixta = ('Juan',1,4.4)\n",
    "tupla_anidada = ('Luis',2,5.5,(1,2,3))\n",
    "print(tupla_anidada)"
   ]
  },
  {
   "cell_type": "code",
   "execution_count": 16,
   "metadata": {},
   "outputs": [
    {
     "name": "stdout",
     "output_type": "stream",
     "text": [
      "5.5\n",
      "Luis\n",
      "2\n",
      "5.5\n",
      "(1, 2, 3)\n"
     ]
    }
   ],
   "source": [
    "print(tupla_anidada[2])\n",
    "for item in tupla_anidada:\n",
    "    print(item)"
   ]
  },
  {
   "cell_type": "code",
   "execution_count": 29,
   "metadata": {},
   "outputs": [
    {
     "name": "stdout",
     "output_type": "stream",
     "text": [
      "{'nombre': 'Juan', 'edad': 25, 1: '480466', 'lista': [1, 2, 3, 4]}\n",
      "Juan\n",
      "Juan 25\n",
      "{'nombre': 'Juan', 'edad': 25, 1: '480466', 'lista': [1, 2, 3, 4], 'id': 123456789}\n"
     ]
    }
   ],
   "source": [
    "#Diccionarios\n",
    "diccionario = {1:'Juan',2:'María'}\n",
    "dic_mixto = {'nombre':'Juan','edad':25,1:'480466','lista':[1,2,3,4]}\n",
    "print(dic_mixto)\n",
    "print(dic_mixto['nombre'])\n",
    "nombre = (dic_mixto['nombre'])\n",
    "edad = (dic_mixto['edad'])\n",
    "dic_mixto['id'] = 123456789\n",
    "#direccion = (dic_mixto.get['direccion'])\n",
    "print(nombre,edad)\n",
    "print(dic_mixto)\n"
   ]
  },
  {
   "cell_type": "code",
   "execution_count": 32,
   "metadata": {},
   "outputs": [
    {
     "name": "stdout",
     "output_type": "stream",
     "text": [
      "nombre -> Juan\n",
      "edad -> 25\n",
      "1 -> 480466\n",
      "lista -> [1, 2, 3, 4]\n",
      "id -> 123456789\n"
     ]
    }
   ],
   "source": [
    "for key in dic_mixto:\n",
    "    print(key,'->',dic_mixto[key])"
   ]
  },
  {
   "cell_type": "code",
   "execution_count": 35,
   "metadata": {},
   "outputs": [
    {
     "name": "stdout",
     "output_type": "stream",
     "text": [
      "5 Es negativo\n"
     ]
    }
   ],
   "source": [
    "num = 5\n",
    "if num < 0:\n",
    "    print(num, \"Es mayor que cero y es positivo\")\n",
    "else:\n",
    "    print(num, \"Es negativo\")"
   ]
  },
  {
   "cell_type": "code",
   "execution_count": 36,
   "metadata": {},
   "outputs": [
    {
     "name": "stdout",
     "output_type": "stream",
     "text": [
      "0\n",
      "1\n",
      "2\n"
     ]
    }
   ],
   "source": [
    "for item in range(5):\n",
    "    if item == 3:\n",
    "        break\n",
    "    print(item)\n"
   ]
  },
  {
   "cell_type": "code",
   "execution_count": 48,
   "metadata": {},
   "outputs": [
    {
     "name": "stdout",
     "output_type": "stream",
     "text": [
      "Try\n",
      "Ha sucedido un error\n",
      "division by zero\n"
     ]
    }
   ],
   "source": [
    "try:\n",
    "    print(\"Try\")\n",
    "    b= 5/0\n",
    "except Exception as e:\n",
    "    print(\"Ha sucedido un error\")\n",
    "    print(e)   "
   ]
  },
  {
   "cell_type": "code",
   "execution_count": 52,
   "metadata": {},
   "outputs": [
    {
     "ename": "TypeError",
     "evalue": "funcion() missing 1 required positional argument: 'num'",
     "output_type": "error",
     "traceback": [
      "\u001b[0;31m---------------------------------------------------------------------------\u001b[0m",
      "\u001b[0;31mTypeError\u001b[0m                                 Traceback (most recent call last)",
      "Cell \u001b[0;32mIn[52], line 5\u001b[0m\n\u001b[1;32m      2\u001b[0m \u001b[38;5;28;01mdef\u001b[39;00m \u001b[38;5;21mfuncion\u001b[39m(num):\n\u001b[1;32m      3\u001b[0m     \u001b[38;5;28;01mreturn\u001b[39;00m num\u001b[38;5;241m+\u001b[39m\u001b[38;5;241m4\u001b[39m\n\u001b[0;32m----> 5\u001b[0m \u001b[43mfuncion\u001b[49m\u001b[43m(\u001b[49m\u001b[43m)\u001b[49m\n",
      "\u001b[0;31mTypeError\u001b[0m: funcion() missing 1 required positional argument: 'num'"
     ]
    }
   ],
   "source": [
    "#Funciones\n",
    "def funcion(num):\n",
    "    return num+4\n",
    "\n",
    "funcion()"
   ]
  },
  {
   "cell_type": "code",
   "execution_count": 66,
   "metadata": {},
   "outputs": [
    {
     "name": "stdout",
     "output_type": "stream",
     "text": [
      "hola\n"
     ]
    },
    {
     "data": {
      "text/plain": [
       "7"
      ]
     },
     "execution_count": 66,
     "metadata": {},
     "output_type": "execute_result"
    }
   ],
   "source": [
    "def funcion(num):\n",
    "    return num+4\n",
    "funcion(2)\n",
    "\n",
    "def saludar():\n",
    "    print(\"hola\")\n",
    "saludar()   \n",
    "\n",
    "suma = lambda a,b:a+b\n",
    "suma(2,5)"
   ]
  },
  {
   "cell_type": "code",
   "execution_count": 60,
   "metadata": {},
   "outputs": [
    {
     "name": "stdout",
     "output_type": "stream",
     "text": [
      "(-5, 2.8)\n"
     ]
    }
   ],
   "source": [
    "#Función para buscar un elto en una lista\n",
    "def lista(valor):\n",
    "    lista = [1,2,3,4,['Juan','Maria'],6,7,8,(-5,2.8),0]\n",
    "    print(lista[valor])\n",
    "lista(8)"
   ]
  },
  {
   "cell_type": "code",
   "execution_count": 92,
   "metadata": {},
   "outputs": [
    {
     "name": "stdout",
     "output_type": "stream",
     "text": [
      "<function <lambda> at 0x7385b04de2a0>\n"
     ]
    },
    {
     "data": {
      "text/plain": [
       "34.5"
      ]
     },
     "execution_count": 92,
     "metadata": {},
     "output_type": "execute_result"
    }
   ],
   "source": [
    "#Función que sume los números positivos de una lista\n",
    "positivo = [1,-5,6,8,7,-2,1,0,10,-15,1.5]\n",
    "def posi(valor):\n",
    "    suma = 0\n",
    "    for item in positivo:\n",
    "        if item > 0:\n",
    "            suma = suma + item\n",
    "    return (suma)\n",
    "print(suma)   \n",
    "posi(positivo)          \n"
   ]
  },
  {
   "cell_type": "code",
   "execution_count": 85,
   "metadata": {},
   "outputs": [
    {
     "name": "stdout",
     "output_type": "stream",
     "text": [
      "Osorno\n",
      "<function <lambda> at 0x7385b04de2a0>\n"
     ]
    }
   ],
   "source": [
    "#Función que busque uan clave en un diccionario\n",
    "ciudad ={1:\"santiago\",2:\"Valdivia\",3:\"Osorno\"}\n",
    "def comuna(valor):\n",
    "    print (ciudad[valor])\n",
    "comuna(3)   \n",
    "\n"
   ]
  },
  {
   "cell_type": "code",
   "execution_count": null,
   "metadata": {},
   "outputs": [],
   "source": [
    "#Filtrar número impares en una lista\n",
    "impar =[1,-2,-8,5,3,-9]\n",
    "def imp():\n",
    "    "
   ]
  }
 ],
 "metadata": {
  "kernelspec": {
   "display_name": "Python 3",
   "language": "python",
   "name": "python3"
  },
  "language_info": {
   "codemirror_mode": {
    "name": "ipython",
    "version": 3
   },
   "file_extension": ".py",
   "mimetype": "text/x-python",
   "name": "python",
   "nbconvert_exporter": "python",
   "pygments_lexer": "ipython3",
   "version": "3.12.1"
  }
 },
 "nbformat": 4,
 "nbformat_minor": 2
}
