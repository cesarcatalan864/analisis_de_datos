{
 "cells": [
  {
   "cell_type": "code",
   "execution_count": 1,
   "metadata": {},
   "outputs": [
    {
     "name": "stdout",
     "output_type": "stream",
     "text": [
      "Collecting polars\n",
      "  Downloading polars-1.7.1-cp38-abi3-manylinux_2_17_x86_64.manylinux2014_x86_64.whl.metadata (14 kB)\n",
      "Downloading polars-1.7.1-cp38-abi3-manylinux_2_17_x86_64.manylinux2014_x86_64.whl (32.2 MB)\n",
      "\u001b[2K   \u001b[90m━━━━━━━━━━━━━━━━━━━━━━━━━━━━━━━━━━━━━━━━\u001b[0m \u001b[32m32.2/32.2 MB\u001b[0m \u001b[31m22.5 MB/s\u001b[0m eta \u001b[36m0:00:00\u001b[0m:00:01\u001b[0m00:01\u001b[0m\n",
      "\u001b[?25hInstalling collected packages: polars\n",
      "Successfully installed polars-1.7.1\n",
      "Note: you may need to restart the kernel to use updated packages.\n"
     ]
    }
   ],
   "source": [
    "pip install polars"
   ]
  },
  {
   "cell_type": "code",
   "execution_count": 3,
   "metadata": {},
   "outputs": [
    {
     "name": "stdout",
     "output_type": "stream",
     "text": [
      "--------Version info---------\n",
      "Polars:              1.7.1\n",
      "Index type:          UInt32\n",
      "Platform:            Linux-6.5.0-1025-azure-x86_64-with-glibc2.31\n",
      "Python:              3.12.1 (main, Aug 20 2024, 19:28:58) [GCC 9.4.0]\n",
      "\n",
      "----Optional dependencies----\n",
      "adbc_driver_manager  <not installed>\n",
      "altair               <not installed>\n",
      "cloudpickle          <not installed>\n",
      "connectorx           <not installed>\n",
      "deltalake            <not installed>\n",
      "fastexcel            <not installed>\n",
      "fsspec               "
     ]
    },
    {
     "name": "stdout",
     "output_type": "stream",
     "text": [
      "2024.2.0\n",
      "gevent               <not installed>\n",
      "great_tables         <not installed>\n",
      "matplotlib           3.9.2\n",
      "nest_asyncio         1.6.0\n",
      "numpy                2.1.0\n",
      "openpyxl             <not installed>\n",
      "pandas               2.2.2\n",
      "pyarrow              <not installed>\n",
      "pydantic             <not installed>\n",
      "pyiceberg            <not installed>\n",
      "sqlalchemy           2.0.29\n",
      "torch                2.4.0+cpu\n",
      "xlsx2csv             <not installed>\n",
      "xlsxwriter           <not installed>\n"
     ]
    }
   ],
   "source": [
    "import polars as pl\n",
    "pl.show_versions()"
   ]
  },
  {
   "cell_type": "code",
   "execution_count": 4,
   "metadata": {},
   "outputs": [],
   "source": [
    "df = pl.DataFrame(\n",
    "...     {\n",
    "...         \"A\": [1, 2, 3, 4, 5],\n",
    "...         \"fruits\": [\"banana\", \"banana\", \"apple\", \"apple\", \"banana\"],\n",
    "...         \"B\": [5, 4, 3, 2, 1],\n",
    "...         \"cars\": [\"beetle\", \"audi\", \"beetle\", \"beetle\", \"beetle\"],\n",
    "...     }\n",
    "... )"
   ]
  },
  {
   "cell_type": "code",
   "execution_count": 11,
   "metadata": {},
   "outputs": [],
   "source": [
    "df.sort(\"fruits\").select(\n",
    "   \"fruits\",\n",
    "   \"cars\",\n",
    "pl.lit(\"fruits\").alias(\"literal_string_fruits\"),\n",
    "pl.col(\"B\").filter(pl.col(\"cars\") == \"beetle\").sum(),\n",
    "pl.col(\"A\").filter(pl.col(\"B\") > 2).sum().over(\"cars\").alias(\"sum_A_by_cars\"),\n",
    "pl.col(\"A\").sum().over(\"fruits\").alias(\"sum_A_by_fruits\"),\n",
    "pl.col(\"A\").reverse().over(\"fruits\").alias(\"rev_A_by_fruits\"),\n",
    "pl.col(\"A\").sort_by(\"B\").over(\"fruits\").alias(\"sort_A_by_B_by_fruits\"),\n",
    ")\n",
    "shape:(5, 8)"
   ]
  },
  {
   "cell_type": "code",
   "execution_count": 28,
   "metadata": {},
   "outputs": [
    {
     "name": "stdout",
     "output_type": "stream",
     "text": [
      "Requirement already satisfied: polars[all] in /home/codespace/.python/current/lib/python3.12/site-packages (1.7.1)\n",
      "Requirement already satisfied: numpy>=1.16.0 in /home/codespace/.local/lib/python3.12/site-packages (from polars[all]) (2.1.0)\n",
      "Requirement already satisfied: pandas in /home/codespace/.local/lib/python3.12/site-packages (from polars[all]) (2.2.2)\n",
      "Collecting pyarrow>=7.0.0 (from polars[all])\n",
      "  Downloading pyarrow-17.0.0-cp312-cp312-manylinux_2_28_x86_64.whl.metadata (3.3 kB)\n",
      "Collecting pydantic (from polars[all])\n",
      "  Downloading pydantic-2.9.2-py3-none-any.whl.metadata (149 kB)\n",
      "Requirement already satisfied: nest-asyncio in /home/codespace/.local/lib/python3.12/site-packages (from polars[all]) (1.6.0)\n",
      "Requirement already satisfied: fsspec in /home/codespace/.local/lib/python3.12/site-packages (from polars[all]) (2024.2.0)\n",
      "Collecting deltalake>=0.15.0 (from polars[all])\n",
      "  Downloading deltalake-0.20.0-cp38-abi3-manylinux_2_17_x86_64.manylinux2014_x86_64.whl.metadata (5.0 kB)\n",
      "Collecting pyiceberg>=0.5.0 (from polars[all])\n",
      "  Downloading pyiceberg-0.7.1.tar.gz (568 kB)\n",
      "\u001b[2K     \u001b[90m━━━━━━━━━━━━━━━━━━━━━━━━━━━━━━━━━━━━━━━\u001b[0m \u001b[32m568.8/568.8 kB\u001b[0m \u001b[31m5.3 MB/s\u001b[0m eta \u001b[36m0:00:00\u001b[0m\n",
      "\u001b[?25h  Installing build dependencies ... \u001b[?25ldone\n",
      "\u001b[?25h  Getting requirements to build wheel ... \u001b[?25ldone\n",
      "\u001b[?25h  Preparing metadata (pyproject.toml) ... \u001b[?25ldone\n",
      "\u001b[?25hCollecting gevent (from polars[all])\n",
      "  Downloading gevent-24.2.1-cp312-cp312-manylinux_2_28_x86_64.whl.metadata (13 kB)\n",
      "Collecting cloudpickle (from polars[all])\n",
      "  Downloading cloudpickle-3.0.0-py3-none-any.whl.metadata (7.0 kB)\n",
      "Requirement already satisfied: matplotlib in /home/codespace/.local/lib/python3.12/site-packages (from polars[all]) (3.9.2)\n",
      "Collecting altair>=5.4.0 (from polars[all])\n",
      "  Downloading altair-5.4.1-py3-none-any.whl.metadata (9.4 kB)\n",
      "Collecting great-tables>=0.8.0 (from polars[all])\n",
      "  Downloading great_tables-0.11.1-py3-none-any.whl.metadata (10 kB)\n",
      "Requirement already satisfied: jinja2 in /home/codespace/.local/lib/python3.12/site-packages (from altair>=5.4.0->polars[all]) (3.1.4)\n",
      "Requirement already satisfied: jsonschema>=3.0 in /home/codespace/.local/lib/python3.12/site-packages (from altair>=5.4.0->polars[all]) (4.23.0)\n",
      "Collecting narwhals>=1.5.2 (from altair>=5.4.0->polars[all])\n",
      "  Downloading narwhals-1.8.2-py3-none-any.whl.metadata (6.8 kB)\n",
      "Requirement already satisfied: packaging in /home/codespace/.local/lib/python3.12/site-packages (from altair>=5.4.0->polars[all]) (24.1)\n",
      "Collecting typing-extensions>=4.10.0 (from altair>=5.4.0->polars[all])\n",
      "  Downloading typing_extensions-4.12.2-py3-none-any.whl.metadata (3.0 kB)\n",
      "Collecting commonmark>=0.9.1 (from great-tables>=0.8.0->polars[all])\n",
      "  Downloading commonmark-0.9.1-py2.py3-none-any.whl.metadata (5.7 kB)\n",
      "Collecting htmltools>=0.4.1 (from great-tables>=0.8.0->polars[all])\n",
      "  Downloading htmltools-0.5.3-py3-none-any.whl.metadata (3.3 kB)\n",
      "Collecting importlib-metadata (from great-tables>=0.8.0->polars[all])\n",
      "  Downloading importlib_metadata-8.5.0-py3-none-any.whl.metadata (4.8 kB)\n",
      "Requirement already satisfied: Babel>=2.13.1 in /home/codespace/.local/lib/python3.12/site-packages (from great-tables>=0.8.0->polars[all]) (2.16.0)\n",
      "Collecting importlib-resources (from great-tables>=0.8.0->polars[all])\n",
      "  Downloading importlib_resources-6.4.5-py3-none-any.whl.metadata (4.0 kB)\n",
      "Collecting click<9.0.0,>=7.1.1 (from pyiceberg>=0.5.0->polars[all])\n",
      "  Downloading click-8.1.7-py3-none-any.whl.metadata (3.0 kB)\n",
      "Collecting mmh3<5.0.0,>=4.0.0 (from pyiceberg>=0.5.0->polars[all])\n",
      "  Downloading mmh3-4.1.0-cp312-cp312-manylinux_2_5_x86_64.manylinux1_x86_64.manylinux_2_17_x86_64.manylinux2014_x86_64.whl.metadata (13 kB)\n",
      "Requirement already satisfied: pyparsing<4.0.0,>=3.1.0 in /home/codespace/.local/lib/python3.12/site-packages (from pyiceberg>=0.5.0->polars[all]) (3.1.2)\n",
      "Requirement already satisfied: requests<3.0.0,>=2.20.0 in /home/codespace/.local/lib/python3.12/site-packages (from pyiceberg>=0.5.0->polars[all]) (2.32.3)\n",
      "Collecting rich<14.0.0,>=10.11.0 (from pyiceberg>=0.5.0->polars[all])\n",
      "  Downloading rich-13.8.1-py3-none-any.whl.metadata (18 kB)\n",
      "Collecting sortedcontainers==2.4.0 (from pyiceberg>=0.5.0->polars[all])\n",
      "  Downloading sortedcontainers-2.4.0-py2.py3-none-any.whl.metadata (10 kB)\n",
      "Collecting strictyaml<2.0.0,>=1.7.0 (from pyiceberg>=0.5.0->polars[all])\n",
      "  Downloading strictyaml-1.7.3-py3-none-any.whl.metadata (11 kB)\n",
      "Collecting tenacity<9.0.0,>=8.2.3 (from pyiceberg>=0.5.0->polars[all])\n",
      "  Downloading tenacity-8.5.0-py3-none-any.whl.metadata (1.2 kB)\n",
      "Collecting annotated-types>=0.6.0 (from pydantic->polars[all])\n",
      "  Downloading annotated_types-0.7.0-py3-none-any.whl.metadata (15 kB)\n",
      "Collecting pydantic-core==2.23.4 (from pydantic->polars[all])\n",
      "  Downloading pydantic_core-2.23.4-cp312-cp312-manylinux_2_17_x86_64.manylinux2014_x86_64.whl.metadata (6.6 kB)\n",
      "Collecting zope.event (from gevent->polars[all])\n",
      "  Downloading zope.event-5.0-py3-none-any.whl.metadata (4.4 kB)\n",
      "Collecting zope.interface (from gevent->polars[all])\n",
      "  Downloading zope.interface-7.0.3-cp312-cp312-manylinux_2_5_x86_64.manylinux1_x86_64.manylinux_2_17_x86_64.manylinux2014_x86_64.whl.metadata (43 kB)\n",
      "Requirement already satisfied: greenlet>=3.0rc3 in /home/codespace/.python/current/lib/python3.12/site-packages (from gevent->polars[all]) (3.1.0)\n",
      "Requirement already satisfied: contourpy>=1.0.1 in /home/codespace/.local/lib/python3.12/site-packages (from matplotlib->polars[all]) (1.2.1)\n",
      "Requirement already satisfied: cycler>=0.10 in /home/codespace/.local/lib/python3.12/site-packages (from matplotlib->polars[all]) (0.12.1)\n",
      "Requirement already satisfied: fonttools>=4.22.0 in /home/codespace/.local/lib/python3.12/site-packages (from matplotlib->polars[all]) (4.53.1)\n",
      "Requirement already satisfied: kiwisolver>=1.3.1 in /home/codespace/.local/lib/python3.12/site-packages (from matplotlib->polars[all]) (1.4.5)\n",
      "Requirement already satisfied: pillow>=8 in /home/codespace/.local/lib/python3.12/site-packages (from matplotlib->polars[all]) (10.4.0)\n",
      "Requirement already satisfied: python-dateutil>=2.7 in /home/codespace/.local/lib/python3.12/site-packages (from matplotlib->polars[all]) (2.9.0.post0)\n",
      "Requirement already satisfied: pytz>=2020.1 in /home/codespace/.local/lib/python3.12/site-packages (from pandas->polars[all]) (2024.1)\n",
      "Requirement already satisfied: tzdata>=2022.7 in /home/codespace/.local/lib/python3.12/site-packages (from pandas->polars[all]) (2024.1)\n",
      "Collecting adbc-driver-manager[dbapi] (from polars[all])\n",
      "  Downloading adbc_driver_manager-1.2.0-cp312-cp312-manylinux_2_17_x86_64.manylinux2014_x86_64.whl.metadata (3.2 kB)\n",
      "Collecting adbc-driver-sqlite[dbapi] (from polars[all])\n",
      "  Downloading adbc_driver_sqlite-1.2.0-py3-none-manylinux_2_17_x86_64.manylinux2014_x86_64.whl.metadata (3.4 kB)\n",
      "Collecting connectorx>=0.3.2 (from polars[all])\n",
      "  Downloading connectorx-0.3.3-cp312-cp312-manylinux_2_28_x86_64.whl.metadata (19 kB)\n",
      "Requirement already satisfied: sqlalchemy in /home/codespace/.python/current/lib/python3.12/site-packages (from polars[all]) (2.0.29)\n",
      "Collecting fastexcel>=0.9 (from polars[all])\n",
      "  Downloading fastexcel-0.11.6-cp38-abi3-manylinux_2_17_x86_64.manylinux2014_x86_64.whl.metadata (2.8 kB)\n",
      "Collecting openpyxl>=3.0.0 (from polars[all])\n",
      "  Downloading openpyxl-3.1.5-py2.py3-none-any.whl.metadata (2.5 kB)\n",
      "Collecting xlsx2csv>=0.8.0 (from polars[all])\n",
      "  Downloading xlsx2csv-0.8.3-py3-none-any.whl.metadata (5.7 kB)\n",
      "Collecting xlsxwriter (from polars[all])\n",
      "  Downloading XlsxWriter-3.2.0-py3-none-any.whl.metadata (2.6 kB)\n",
      "Requirement already satisfied: attrs>=22.2.0 in /home/codespace/.local/lib/python3.12/site-packages (from jsonschema>=3.0->altair>=5.4.0->polars[all]) (24.2.0)\n",
      "Requirement already satisfied: jsonschema-specifications>=2023.03.6 in /home/codespace/.local/lib/python3.12/site-packages (from jsonschema>=3.0->altair>=5.4.0->polars[all]) (2023.12.1)\n",
      "Requirement already satisfied: referencing>=0.28.4 in /home/codespace/.local/lib/python3.12/site-packages (from jsonschema>=3.0->altair>=5.4.0->polars[all]) (0.35.1)\n",
      "Requirement already satisfied: rpds-py>=0.7.1 in /home/codespace/.local/lib/python3.12/site-packages (from jsonschema>=3.0->altair>=5.4.0->polars[all]) (0.20.0)\n",
      "Collecting et-xmlfile (from openpyxl>=3.0.0->polars[all])\n",
      "  Downloading et_xmlfile-1.1.0-py3-none-any.whl.metadata (1.8 kB)\n",
      "Requirement already satisfied: six>=1.5 in /home/codespace/.local/lib/python3.12/site-packages (from python-dateutil>=2.7->matplotlib->polars[all]) (1.16.0)\n",
      "Requirement already satisfied: charset-normalizer<4,>=2 in /home/codespace/.local/lib/python3.12/site-packages (from requests<3.0.0,>=2.20.0->pyiceberg>=0.5.0->polars[all]) (3.3.2)\n",
      "Requirement already satisfied: idna<4,>=2.5 in /home/codespace/.local/lib/python3.12/site-packages (from requests<3.0.0,>=2.20.0->pyiceberg>=0.5.0->polars[all]) (3.7)\n",
      "Requirement already satisfied: urllib3<3,>=1.21.1 in /home/codespace/.local/lib/python3.12/site-packages (from requests<3.0.0,>=2.20.0->pyiceberg>=0.5.0->polars[all]) (2.2.2)\n",
      "Requirement already satisfied: certifi>=2017.4.17 in /home/codespace/.local/lib/python3.12/site-packages (from requests<3.0.0,>=2.20.0->pyiceberg>=0.5.0->polars[all]) (2024.7.4)\n",
      "Collecting markdown-it-py>=2.2.0 (from rich<14.0.0,>=10.11.0->pyiceberg>=0.5.0->polars[all])\n",
      "  Downloading markdown_it_py-3.0.0-py3-none-any.whl.metadata (6.9 kB)\n",
      "Requirement already satisfied: pygments<3.0.0,>=2.13.0 in /home/codespace/.local/lib/python3.12/site-packages (from rich<14.0.0,>=10.11.0->pyiceberg>=0.5.0->polars[all]) (2.18.0)\n",
      "Collecting zipp>=3.20 (from importlib-metadata->great-tables>=0.8.0->polars[all])\n",
      "  Downloading zipp-3.20.2-py3-none-any.whl.metadata (3.7 kB)\n",
      "Requirement already satisfied: MarkupSafe>=2.0 in /home/codespace/.local/lib/python3.12/site-packages (from jinja2->altair>=5.4.0->polars[all]) (2.1.5)\n",
      "Requirement already satisfied: setuptools in /home/codespace/.local/lib/python3.12/site-packages (from zope.event->gevent->polars[all]) (73.0.1)\n",
      "Collecting mdurl~=0.1 (from markdown-it-py>=2.2.0->rich<14.0.0,>=10.11.0->pyiceberg>=0.5.0->polars[all])\n",
      "  Downloading mdurl-0.1.2-py3-none-any.whl.metadata (1.6 kB)\n",
      "Downloading altair-5.4.1-py3-none-any.whl (658 kB)\n",
      "\u001b[2K   \u001b[90m━━━━━━━━━━━━━━━━━━━━━━━━━━━━━━━━━━━━━━━━\u001b[0m \u001b[32m658.1/658.1 kB\u001b[0m \u001b[31m7.0 MB/s\u001b[0m eta \u001b[36m0:00:00\u001b[0m\n",
      "\u001b[?25hDownloading deltalake-0.20.0-cp38-abi3-manylinux_2_17_x86_64.manylinux2014_x86_64.whl (35.9 MB)\n",
      "\u001b[2K   \u001b[90m━━━━━━━━━━━━━━━━━━━━━━━━━━━━━━━━━━━━━━━━\u001b[0m \u001b[32m35.9/35.9 MB\u001b[0m \u001b[31m58.8 MB/s\u001b[0m eta \u001b[36m0:00:00\u001b[0m:00:01\u001b[0m\n",
      "\u001b[?25hDownloading great_tables-0.11.1-py3-none-any.whl (1.3 MB)\n",
      "\u001b[2K   \u001b[90m━━━━━━━━━━━━━━━━━━━━━━━━━━━━━━━━━━━━━━━━\u001b[0m \u001b[32m1.3/1.3 MB\u001b[0m \u001b[31m13.1 MB/s\u001b[0m eta \u001b[36m0:00:00\u001b[0m\n",
      "\u001b[?25hDownloading pyarrow-17.0.0-cp312-cp312-manylinux_2_28_x86_64.whl (39.9 MB)\n",
      "\u001b[2K   \u001b[90m━━━━━━━━━━━━━━━━━━━━━━━━━━━━━━━━━━━━━━━━\u001b[0m \u001b[32m39.9/39.9 MB\u001b[0m \u001b[31m33.0 MB/s\u001b[0m eta \u001b[36m0:00:00\u001b[0m:00:01\u001b[0m\n",
      "\u001b[?25hDownloading sortedcontainers-2.4.0-py2.py3-none-any.whl (29 kB)\n",
      "Downloading pydantic-2.9.2-py3-none-any.whl (434 kB)\n",
      "Downloading pydantic_core-2.23.4-cp312-cp312-manylinux_2_17_x86_64.manylinux2014_x86_64.whl (2.1 MB)\n",
      "\u001b[2K   \u001b[90m━━━━━━━━━━━━━━━━━━━━━━━━━━━━━━━━━━━━━━━━\u001b[0m \u001b[32m2.1/2.1 MB\u001b[0m \u001b[31m3.1 MB/s\u001b[0m eta \u001b[36m0:00:00\u001b[0meta \u001b[36m0:00:01\u001b[0m\n",
      "\u001b[?25hDownloading cloudpickle-3.0.0-py3-none-any.whl (20 kB)\n",
      "Downloading gevent-24.2.1-cp312-cp312-manylinux_2_28_x86_64.whl (6.7 MB)\n",
      "\u001b[2K   \u001b[90m━━━━━━━━━━━━━━━━━━━━━━━━━━━━━━━━━━━━━━━━\u001b[0m \u001b[32m6.7/6.7 MB\u001b[0m \u001b[31m24.9 MB/s\u001b[0m eta \u001b[36m0:00:00\u001b[0m:00:01\u001b[0m\n",
      "\u001b[?25hDownloading annotated_types-0.7.0-py3-none-any.whl (13 kB)\n",
      "Downloading click-8.1.7-py3-none-any.whl (97 kB)\n",
      "Downloading commonmark-0.9.1-py2.py3-none-any.whl (51 kB)\n",
      "Downloading connectorx-0.3.3-cp312-cp312-manylinux_2_28_x86_64.whl (60.5 MB)\n",
      "\u001b[2K   \u001b[90m━━━━━━━━━━━━━━━━━━━━━━━━━━━━━━━━━━━━━━━━\u001b[0m \u001b[32m60.5/60.5 MB\u001b[0m \u001b[31m62.4 MB/s\u001b[0m eta \u001b[36m0:00:00\u001b[0m:00:01\u001b[0m00:01\u001b[0m\n",
      "\u001b[?25hDownloading fastexcel-0.11.6-cp38-abi3-manylinux_2_17_x86_64.manylinux2014_x86_64.whl (1.2 MB)\n",
      "\u001b[2K   \u001b[90m━━━━━━━━━━━━━━━━━━━━━━━━━━━━━━━━━━━━━━━━\u001b[0m \u001b[32m1.2/1.2 MB\u001b[0m \u001b[31m10.6 MB/s\u001b[0m eta \u001b[36m0:00:00\u001b[0m\n",
      "\u001b[?25hDownloading htmltools-0.5.3-py3-none-any.whl (83 kB)\n",
      "Downloading mmh3-4.1.0-cp312-cp312-manylinux_2_5_x86_64.manylinux1_x86_64.manylinux_2_17_x86_64.manylinux2014_x86_64.whl (68 kB)\n",
      "Downloading narwhals-1.8.2-py3-none-any.whl (167 kB)\n",
      "Downloading openpyxl-3.1.5-py2.py3-none-any.whl (250 kB)\n",
      "Downloading rich-13.8.1-py3-none-any.whl (241 kB)\n",
      "Downloading strictyaml-1.7.3-py3-none-any.whl (123 kB)\n",
      "Downloading tenacity-8.5.0-py3-none-any.whl (28 kB)\n",
      "Downloading typing_extensions-4.12.2-py3-none-any.whl (37 kB)\n",
      "Downloading xlsx2csv-0.8.3-py3-none-any.whl (15 kB)\n",
      "Downloading importlib_resources-6.4.5-py3-none-any.whl (36 kB)\n",
      "Downloading importlib_metadata-8.5.0-py3-none-any.whl (26 kB)\n",
      "Downloading XlsxWriter-3.2.0-py3-none-any.whl (159 kB)\n",
      "Downloading zope.event-5.0-py3-none-any.whl (6.8 kB)\n",
      "Downloading zope.interface-7.0.3-cp312-cp312-manylinux_2_5_x86_64.manylinux1_x86_64.manylinux_2_17_x86_64.manylinux2014_x86_64.whl (267 kB)\n",
      "Downloading markdown_it_py-3.0.0-py3-none-any.whl (87 kB)\n",
      "Downloading zipp-3.20.2-py3-none-any.whl (9.2 kB)\n",
      "Downloading adbc_driver_manager-1.2.0-cp312-cp312-manylinux_2_17_x86_64.manylinux2014_x86_64.whl (2.2 MB)\n",
      "\u001b[2K   \u001b[90m━━━━━━━━━━━━━━━━━━━━━━━━━━━━━━━━━━━━━━━━\u001b[0m \u001b[32m2.2/2.2 MB\u001b[0m \u001b[31m21.5 MB/s\u001b[0m eta \u001b[36m0:00:00\u001b[0m\n",
      "\u001b[?25hDownloading adbc_driver_sqlite-1.2.0-py3-none-manylinux_2_17_x86_64.manylinux2014_x86_64.whl (969 kB)\n",
      "\u001b[2K   \u001b[90m━━━━━━━━━━━━━━━━━━━━━━━━━━━━━━━━━━━━━━━━\u001b[0m \u001b[32m969.8/969.8 kB\u001b[0m \u001b[31m11.6 MB/s\u001b[0m eta \u001b[36m0:00:00\u001b[0m\n",
      "\u001b[?25hDownloading et_xmlfile-1.1.0-py3-none-any.whl (4.7 kB)\n",
      "Downloading mdurl-0.1.2-py3-none-any.whl (10.0 kB)\n",
      "Building wheels for collected packages: pyiceberg\n",
      "  Building wheel for pyiceberg (pyproject.toml) ... \u001b[?25ldone\n",
      "\u001b[?25h  Created wheel for pyiceberg: filename=pyiceberg-0.7.1-cp312-cp312-manylinux_2_31_x86_64.whl size=742645 sha256=92ece9d1382b5ac26ca752f35d8285f98b7d2006a1e2a0de656fc82e02dcc16a\n",
      "  Stored in directory: /home/codespace/.cache/pip/wheels/22/ec/b0/416d8502c89ec2db350dca5b35e1511984c03a3d2617a6bfe7\n",
      "Successfully built pyiceberg\n",
      "Installing collected packages: xlsx2csv, sortedcontainers, mmh3, commonmark, zope.interface, zope.event, zipp, xlsxwriter, typing-extensions, tenacity, pyarrow, narwhals, mdurl, importlib-resources, et-xmlfile, connectorx, cloudpickle, click, annotated-types, strictyaml, pydantic-core, openpyxl, markdown-it-py, importlib-metadata, htmltools, gevent, fastexcel, deltalake, adbc-driver-manager, rich, pydantic, great-tables, adbc-driver-sqlite, pyiceberg, altair\n",
      "  Attempting uninstall: typing-extensions\n",
      "    Found existing installation: typing_extensions 4.9.0\n",
      "    Uninstalling typing_extensions-4.9.0:\n",
      "      Successfully uninstalled typing_extensions-4.9.0\n",
      "  Attempting uninstall: tenacity\n",
      "    Found existing installation: tenacity 9.0.0\n",
      "    Uninstalling tenacity-9.0.0:\n",
      "      Successfully uninstalled tenacity-9.0.0\n",
      "Successfully installed adbc-driver-manager-1.2.0 adbc-driver-sqlite-1.2.0 altair-5.4.1 annotated-types-0.7.0 click-8.1.7 cloudpickle-3.0.0 commonmark-0.9.1 connectorx-0.3.3 deltalake-0.20.0 et-xmlfile-1.1.0 fastexcel-0.11.6 gevent-24.2.1 great-tables-0.11.1 htmltools-0.5.3 importlib-metadata-8.5.0 importlib-resources-6.4.5 markdown-it-py-3.0.0 mdurl-0.1.2 mmh3-4.1.0 narwhals-1.8.2 openpyxl-3.1.5 pyarrow-17.0.0 pydantic-2.9.2 pydantic-core-2.23.4 pyiceberg-0.7.1 rich-13.8.1 sortedcontainers-2.4.0 strictyaml-1.7.3 tenacity-8.5.0 typing-extensions-4.12.2 xlsx2csv-0.8.3 xlsxwriter-3.2.0 zipp-3.20.2 zope.event-5.0 zope.interface-7.0.3\n",
      "Note: you may need to restart the kernel to use updated packages.\n"
     ]
    }
   ],
   "source": [
    "pip install 'polars[all]'"
   ]
  },
  {
   "cell_type": "code",
   "execution_count": 29,
   "metadata": {},
   "outputs": [
    {
     "name": "stdout",
     "output_type": "stream",
     "text": [
      "Requirement already satisfied: polars[numpy,pandas,pyarrow] in /home/codespace/.python/current/lib/python3.12/site-packages (1.7.1)\n",
      "Requirement already satisfied: numpy>=1.16.0 in /home/codespace/.local/lib/python3.12/site-packages (from polars[numpy,pandas,pyarrow]) (2.1.0)\n",
      "Requirement already satisfied: pandas in /home/codespace/.local/lib/python3.12/site-packages (from polars[numpy,pandas,pyarrow]) (2.2.2)\n",
      "Requirement already satisfied: pyarrow>=7.0.0 in /home/codespace/.python/current/lib/python3.12/site-packages (from polars[numpy,pandas,pyarrow]) (17.0.0)\n",
      "Requirement already satisfied: python-dateutil>=2.8.2 in /home/codespace/.local/lib/python3.12/site-packages (from pandas->polars[numpy,pandas,pyarrow]) (2.9.0.post0)\n",
      "Requirement already satisfied: pytz>=2020.1 in /home/codespace/.local/lib/python3.12/site-packages (from pandas->polars[numpy,pandas,pyarrow]) (2024.1)\n",
      "Requirement already satisfied: tzdata>=2022.7 in /home/codespace/.local/lib/python3.12/site-packages (from pandas->polars[numpy,pandas,pyarrow]) (2024.1)\n",
      "Requirement already satisfied: six>=1.5 in /home/codespace/.local/lib/python3.12/site-packages (from python-dateutil>=2.8.2->pandas->polars[numpy,pandas,pyarrow]) (1.16.0)\n",
      "Note: you may need to restart the kernel to use updated packages.\n"
     ]
    }
   ],
   "source": [
    "pip install 'polars[numpy,pandas,pyarrow]'"
   ]
  },
  {
   "cell_type": "code",
   "execution_count": 8,
   "metadata": {},
   "outputs": [
    {
     "data": {
      "text/html": [
       "<div><style>\n",
       ".dataframe > thead > tr,\n",
       ".dataframe > tbody > tr {\n",
       "  text-align: right;\n",
       "  white-space: pre-wrap;\n",
       "}\n",
       "</style>\n",
       "<small>shape: (5, 4)</small><table border=\"1\" class=\"dataframe\"><thead><tr><th>A</th><th>fruits</th><th>B</th><th>cars</th></tr><tr><td>i64</td><td>str</td><td>i64</td><td>str</td></tr></thead><tbody><tr><td>1</td><td>&quot;banana&quot;</td><td>5</td><td>&quot;beetle&quot;</td></tr><tr><td>2</td><td>&quot;banana&quot;</td><td>4</td><td>&quot;audi&quot;</td></tr><tr><td>3</td><td>&quot;apple&quot;</td><td>3</td><td>&quot;beetle&quot;</td></tr><tr><td>4</td><td>&quot;apple&quot;</td><td>2</td><td>&quot;beetle&quot;</td></tr><tr><td>5</td><td>&quot;banana&quot;</td><td>1</td><td>&quot;beetle&quot;</td></tr></tbody></table></div>"
      ],
      "text/plain": [
       "shape: (5, 4)\n",
       "┌─────┬────────┬─────┬────────┐\n",
       "│ A   ┆ fruits ┆ B   ┆ cars   │\n",
       "│ --- ┆ ---    ┆ --- ┆ ---    │\n",
       "│ i64 ┆ str    ┆ i64 ┆ str    │\n",
       "╞═════╪════════╪═════╪════════╡\n",
       "│ 1   ┆ banana ┆ 5   ┆ beetle │\n",
       "│ 2   ┆ banana ┆ 4   ┆ audi   │\n",
       "│ 3   ┆ apple  ┆ 3   ┆ beetle │\n",
       "│ 4   ┆ apple  ┆ 2   ┆ beetle │\n",
       "│ 5   ┆ banana ┆ 1   ┆ beetle │\n",
       "└─────┴────────┴─────┴────────┘"
      ]
     },
     "execution_count": 8,
     "metadata": {},
     "output_type": "execute_result"
    }
   ],
   "source": [
    "df.head()"
   ]
  },
  {
   "cell_type": "code",
   "execution_count": 25,
   "metadata": {},
   "outputs": [
    {
     "name": "stdout",
     "output_type": "stream",
     "text": [
      "naive plan: (run LazyFrame.explain(optimized=True) to see the optimized plan)\n",
      "\n",
      "SLICE[offset: 0, len: 5]\n",
      "  Csv SCAN [/workspaces/analisis_de_datos/mysql/data/iris.csv]\n",
      "  PROJECT */5 COLUMNS\n"
     ]
    }
   ],
   "source": [
    "df = pl.scan_csv('/workspaces/analisis_de_datos/mysql/data/iris.csv')\n",
    "print(df.head())"
   ]
  },
  {
   "cell_type": "code",
   "execution_count": 27,
   "metadata": {},
   "outputs": [
    {
     "name": "stdout",
     "output_type": "stream",
     "text": [
      "naive plan: (run LazyFrame.explain(optimized=True) to see the optimized plan)\n",
      "\n",
      "Csv SCAN [/workspaces/analisis_de_datos/mysql/data/iris.csv]\n",
      "PROJECT */5 COLUMNS\n"
     ]
    }
   ],
   "source": [
    "df.sql(\"\"\"SELECT species, \n",
    "            AVG(sepal_length) AS avg_sepal_length \n",
    "          FROM self \n",
    "          GROUP BY species\n",
    "          \"\"\").collect()\n",
    "\n",
    "print(df)"
   ]
  },
  {
   "cell_type": "code",
   "execution_count": null,
   "metadata": {},
   "outputs": [],
   "source": []
  }
 ],
 "metadata": {
  "kernelspec": {
   "display_name": "Python 3",
   "language": "python",
   "name": "python3"
  },
  "language_info": {
   "codemirror_mode": {
    "name": "ipython",
    "version": 3
   },
   "file_extension": ".py",
   "mimetype": "text/x-python",
   "name": "python",
   "nbconvert_exporter": "python",
   "pygments_lexer": "ipython3",
   "version": "3.12.1"
  }
 },
 "nbformat": 4,
 "nbformat_minor": 2
}
